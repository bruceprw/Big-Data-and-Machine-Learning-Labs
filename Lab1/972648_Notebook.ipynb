{
 "cells": [
  {
   "cell_type": "code",
   "execution_count": 12,
   "metadata": {},
   "outputs": [],
   "source": [
    "import numpy as np\n",
    "import matplotlib.pyplot as plt"
   ]
  },
  {
   "cell_type": "markdown",
   "metadata": {},
   "source": [
    "## CSC-348 Lab 1\n",
    "\n",
    "Bruce Williams\n",
    "24/1/2022\n",
    "972648"
   ]
  },
  {
   "cell_type": "markdown",
   "metadata": {},
   "source": [
    "## Task 1.1"
   ]
  },
  {
   "cell_type": "code",
   "execution_count": 2,
   "metadata": {},
   "outputs": [
    {
     "name": "stdout",
     "output_type": "stream",
     "text": [
      "815\n"
     ]
    }
   ],
   "source": [
    "x = 345\n",
    "xout = (x*2) + (5)**3\n",
    "print(xout)"
   ]
  },
  {
   "cell_type": "code",
   "execution_count": 3,
   "metadata": {},
   "outputs": [
    {
     "name": "stdout",
     "output_type": "stream",
     "text": [
      "Hello World\n"
     ]
    }
   ],
   "source": [
    "print(\"Hello World\")"
   ]
  },
  {
   "cell_type": "code",
   "execution_count": 4,
   "metadata": {},
   "outputs": [],
   "source": [
    "def f(w,x,b):\n",
    "    return (w*x) + b"
   ]
  },
  {
   "cell_type": "code",
   "execution_count": 5,
   "metadata": {},
   "outputs": [
    {
     "name": "stdout",
     "output_type": "stream",
     "text": [
      "815\n"
     ]
    }
   ],
   "source": [
    "print(f(2, 345, (5**3)))"
   ]
  },
  {
   "cell_type": "markdown",
   "metadata": {},
   "source": [
    "## Task 1.2"
   ]
  },
  {
   "cell_type": "code",
   "execution_count": 6,
   "metadata": {},
   "outputs": [
    {
     "name": "stdout",
     "output_type": "stream",
     "text": [
      "pen\n",
      "dog\n",
      "cat\n",
      "bar\n",
      "tap\n"
     ]
    }
   ],
   "source": [
    "my_list = [\"tap\",\"bar\",\"cat\",\"dog\",\"pen\"]\n",
    "i = len(my_list) - 1\n",
    "while i >= 0:\n",
    "    print(my_list[i])\n",
    "    i -= 1\n"
   ]
  },
  {
   "cell_type": "code",
   "execution_count": 7,
   "metadata": {},
   "outputs": [
    {
     "data": {
      "text/plain": [
       "True"
      ]
     },
     "execution_count": 7,
     "metadata": {},
     "output_type": "execute_result"
    }
   ],
   "source": [
    "def equals_100(x):\n",
    "    if x == 100:\n",
    "        return True\n",
    "    else:\n",
    "        return False\n",
    "\n",
    "equals_100(99)\n",
    "equals_100(100)"
   ]
  },
  {
   "cell_type": "code",
   "execution_count": 8,
   "metadata": {},
   "outputs": [
    {
     "name": "stdout",
     "output_type": "stream",
     "text": [
      "[2, 5, 10]\n",
      "Animal name: dog, count: 5\n"
     ]
    }
   ],
   "source": [
    "my_dictionary = {\n",
    "    \"data_name\" : \"Animal counts\",\n",
    "    \"label\" : [\"cat\", \"dog\", \"fish\"],\n",
    "    \"count\" : [2,5,10]\n",
    "\n",
    "}\n",
    "print(my_dictionary[\"count\"])\n",
    "\n",
    "print(f\"Animal name: {my_dictionary['label'][1]}, count: {my_dictionary['count'][1]}\")"
   ]
  },
  {
   "cell_type": "markdown",
   "metadata": {},
   "source": [
    "## Task 1.3"
   ]
  },
  {
   "cell_type": "code",
   "execution_count": 9,
   "metadata": {},
   "outputs": [
    {
     "name": "stdout",
     "output_type": "stream",
     "text": [
      "[[4 8 8]\n",
      " [6 6 3]]\n",
      "[[9 6 9 8]\n",
      " [5 4 3 5]\n",
      " [8 4 9 5]]\n",
      "[[140  88 132 112]\n",
      " [108  72  99  93]]\n",
      "[140 108]\n"
     ]
    }
   ],
   "source": [
    "arr1 = np.random.randint(low=10, size=(2,3))\n",
    "arr2 = np.random.randint(low=10, size=(3,4))\n",
    "print(arr1)\n",
    "print(arr2)\n",
    "arr3 = np.matmul(arr1, arr2)\n",
    "\n",
    "print(arr3)\n",
    "print(arr3[:,0])"
   ]
  },
  {
   "cell_type": "markdown",
   "metadata": {},
   "source": [
    "## Task 1.4"
   ]
  },
  {
   "cell_type": "code",
   "execution_count": 17,
   "metadata": {},
   "outputs": [
    {
     "data": {
      "text/plain": [
       "Text(0.5, 1.0, 'Scatter plot of Iris data')"
      ]
     },
     "execution_count": 17,
     "metadata": {},
     "output_type": "execute_result"
    },
    {
     "data": {
      "image/png": "[encoded data removed]",
      "text/plain": [
       "<Figure size 432x288 with 1 Axes>"
      ]
     },
     "metadata": {
      "needs_background": "light"
     },
     "output_type": "display_data"
    }
   ],
   "source": [
    "data = np.load(\"Iris_data.npy\")\n",
    "plt.figure()\n",
    "plt.scatter(data[:,0], data[:,1])\n",
    "\n",
    "plt.xlabel(\"Sepal Length\")\n",
    "plt.ylabel(\"Sepal Width\")\n",
    "\n",
    "plt.title(\"Scatter plot of Iris data\")"
   ]
  }
 ],
 "metadata": {
  "interpreter": {
   "hash": "082e9a3bcad0a290d0001e938aa60b99250c6c2ef33a923c00b70f9826caf4b7"
  },
  "kernelspec": {
   "display_name": "Python 3.8.1 64-bit",
   "language": "python",
   "name": "python3"
  },
  "language_info": {
   "codemirror_mode": {
    "name": "ipython",
    "version": 3
   },
   "file_extension": ".py",
   "mimetype": "text/x-python",
   "name": "python",
   "nbconvert_exporter": "python",
   "pygments_lexer": "ipython3",
   "version": "3.8.1"
  },
  "orig_nbformat": 4
 },
 "nbformat": 4,
 "nbformat_minor": 2
}
